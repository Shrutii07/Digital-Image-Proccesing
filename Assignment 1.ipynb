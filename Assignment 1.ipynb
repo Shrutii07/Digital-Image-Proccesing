{
 "cells": [
  {
   "cell_type": "code",
   "execution_count": 26,
   "metadata": {},
   "outputs": [],
   "source": [
    "import cv2 \n",
    "import numpy as np \n",
    "import matplotlib.pyplot as plt "
   ]
  },
  {
   "cell_type": "code",
   "execution_count": 27,
   "metadata": {},
   "outputs": [],
   "source": [
    "# Q1 A generalized function to calculate the mean, standard deviation and histogram for an image\n",
    "# Returns global mean and std and 2D array of size (2,256) for B/W image consisting Pixel Intensity and Population \n",
    "# 3D array of size (2,256,3) for RGB image consisting pixel intensity, population and channel\n",
    "\n",
    "def calculate_metrics(input_image):\n",
    "    mean = np.array(np.sum(input_image)/ np.size(input_image))\n",
    "    std_deviation = np.array(np.sqrt(np.sum(np.square(input_image - mean))/ np.size(input_image)))\n",
    "    \n",
    "    def histogram(img):\n",
    "        l, m = np.shape(img)\n",
    "        h = np.array([np.arange(0,256), np.zeros(256)], dtype=int)\n",
    "        for k in range(l):\n",
    "            for i in range(m):\n",
    "                pix=img[k, i]\n",
    "                h[1, pix] += 1\n",
    "        return h      #returns [intensity_value, pixel_count] for 2D image\n",
    "    if (input_image.ndim == 2):\n",
    "        hist = histogram(input_image)\n",
    "    elif (input_image.ndim == 3):\n",
    "        hist = np.zeros((2,256,3), dtype=int)\n",
    "        for i in range(0,3):\n",
    "            hist[:,:,i] = histogram(input_image[:,:,i]) \n",
    "    return mean, std_deviation, hist"
   ]
  },
  {
   "cell_type": "code",
   "execution_count": 35,
   "metadata": {
    "scrolled": true
   },
   "outputs": [
    {
     "name": "stdout",
     "output_type": "stream",
     "text": [
      "128.22837575276694 128.22837575276694\n",
      "58.983724593480176 58.983724593480176\n"
     ]
    }
   ],
   "source": [
    "img = cv2.imread(\"Lena.png\")\n",
    "a,b,t = calculate_metrics(img)\n",
    "#plt.imshow(img)\n",
    "print(a, np.mean(img))\n",
    "print(b, np.std(img))"
   ]
  },
  {
   "cell_type": "code",
   "execution_count": 29,
   "metadata": {},
   "outputs": [
    {
     "name": "stdout",
     "output_type": "stream",
     "text": [
      "<class 'numpy.ndarray'> <class 'numpy.ndarray'> <class 'numpy.ndarray'>\n",
      "[[   0    1    2    3    4    5    6    7    8    9   10   11   12   13\n",
      "    14   15   16   17   18   19   20   21   22   23   24   25   26   27\n",
      "    28   29   30   31   32   33   34   35   36   37   38   39   40   41\n",
      "    42   43   44   45   46   47   48   49   50   51   52   53   54   55\n",
      "    56   57   58   59   60   61   62   63   64   65   66   67   68   69\n",
      "    70   71   72   73   74   75   76   77   78   79   80   81   82   83\n",
      "    84   85   86   87   88   89   90   91   92   93   94   95   96   97\n",
      "    98   99  100  101  102  103  104  105  106  107  108  109  110  111\n",
      "   112  113  114  115  116  117  118  119  120  121  122  123  124  125\n",
      "   126  127  128  129  130  131  132  133  134  135  136  137  138  139\n",
      "   140  141  142  143  144  145  146  147  148  149  150  151  152  153\n",
      "   154  155  156  157  158  159  160  161  162  163  164  165  166  167\n",
      "   168  169  170  171  172  173  174  175  176  177  178  179  180  181\n",
      "   182  183  184  185  186  187  188  189  190  191  192  193  194  195\n",
      "   196  197  198  199  200  201  202  203  204  205  206  207  208  209\n",
      "   210  211  212  213  214  215  216  217  218  219  220  221  222  223\n",
      "   224  225  226  227  228  229  230  231  232  233  234  235  236  237\n",
      "   238  239  240  241  242  243  244  245  246  247  248  249  250  251\n",
      "   252  253  254  255]\n",
      " [   0    0    0    0    0    0    0    0    7    0    0    0    1    0\n",
      "     0    0    0    0    0    0    0    0    0    0    0    0    0    0\n",
      "     0    0    0    0    0    0    0    0    0    0    0    0    0    3\n",
      "     2    7   14   24   46   67  108  137  254  347  483  626  785 1135\n",
      "  1262 1631 1756 2201 2355 2514 2767 2943 2958 2921 2876 2907 2869 2873\n",
      "  2899 3043 2919 3041 3107 3238 3224 3140 3218 3189 3004 3030 3078 3008\n",
      "  2787 2834 2960 2962 2940 2911 2949 3107 2983 2922 3045 3017 2738 2826\n",
      "  2700 2818 2710 2618 2559 2777 2611 2643 2597 2582 2622 2560 2538 2558\n",
      "  2531 2517 2660 2641 2756 2867 2872 3066 2912 3011 2813 2909 2780 2745\n",
      "  2527 2097 2202 1984 1854 1756 1499 1331 1237 1146 1027 1015  874  905\n",
      "   839  866  808  849  801  870  791  801  796  770  757  889  838  863\n",
      "   914  868  844  880  967  972  837  924  901  924  830  809  819  897\n",
      "   797  802  797  784  746  721  725  673  674  629  633  641  632  652\n",
      "   580  599  575  583  580  511  525  471  421  393  297  330  274  219\n",
      "   191  183  166  152  109  108   75   91   67   67   61   56   37   30\n",
      "    27   23   19   24   18    8    7    4    2    1    0    0    0    3\n",
      "     1    1    0    0    0    0    0    0    0    0    0    0    0    0\n",
      "     0    0    0    0    0    0    0    0    0    0    0    0    0    0\n",
      "     0    0    0    0]]\n",
      "[[   0    1    2    3    4    5    6    7    8    9   10   11   12   13\n",
      "    14   15   16   17   18   19   20   21   22   23   24   25   26   27\n",
      "    28   29   30   31   32   33   34   35   36   37   38   39   40   41\n",
      "    42   43   44   45   46   47   48   49   50   51   52   53   54   55\n",
      "    56   57   58   59   60   61   62   63   64   65   66   67   68   69\n",
      "    70   71   72   73   74   75   76   77   78   79   80   81   82   83\n",
      "    84   85   86   87   88   89   90   91   92   93   94   95   96   97\n",
      "    98   99  100  101  102  103  104  105  106  107  108  109  110  111\n",
      "   112  113  114  115  116  117  118  119  120  121  122  123  124  125\n",
      "   126  127  128  129  130  131  132  133  134  135  136  137  138  139\n",
      "   140  141  142  143  144  145  146  147  148  149  150  151  152  153\n",
      "   154  155  156  157  158  159  160  161  162  163  164  165  166  167\n",
      "   168  169  170  171  172  173  174  175  176  177  178  179  180  181\n",
      "   182  183  184  185  186  187  188  189  190  191  192  193  194  195\n",
      "   196  197  198  199  200  201  202  203  204  205  206  207  208  209\n",
      "   210  211  212  213  214  215  216  217  218  219  220  221  222  223\n",
      "   224  225  226  227  228  229  230  231  232  233  234  235  236  237\n",
      "   238  239  240  241  242  243  244  245  246  247  248  249  250  251\n",
      "   252  253  254  255]\n",
      " [   0    0    0   11   65  111  164  261  308  431  537  682  846  912\n",
      "  1074 1350 1480 1681 1621 2064 1835 2048 1989 1911 2258 2129 1748 1776\n",
      "  1850 1687 1605 1661 1355 1360 1189 1278 1062 1027 1052 1084 1013 1026\n",
      "   915  926 1029 1013 1023  875 1110 1057  862 1120  927 1073 1069 1004\n",
      "  1275 1274 1129 1266 1495 1548 1591 2046 1706 1998 1704 2022 1705 1800\n",
      "  1674 1766 1593 1711 1474 1491 1566 1456 1445 1524 1371 1545 1278 1606\n",
      "  1364 1475 1513 1537 1813 1863 1681 1885 2170 1907 2008 1948 2325 2094\n",
      "  1713 2084 1670 1811 1720 1743 1603 1693 1386 1515 1639 1542 1588 1540\n",
      "  1784 1751 1425 1836 1604 1565 1581 1507 1762 1769 1448 1654 1872 1914\n",
      "  1844 2103 1925 2023 1811 2206 1907 1968 2026 2096 2032 2029 1730 1607\n",
      "  1666 1454 1341 1354 1247 1213  942 1152  931 1080  981  904 1006 1003\n",
      "   814  779  848  817  756  828  690  696  579  622  514  528  499  506\n",
      "   450  504  414  483  504  473  474  452  621  587  512  611  652  723\n",
      "   645  656  850  777  720  719  812  741  646  703  778  767  611  800\n",
      "   699  795  781  830  816  912  843  851  847  788  687  700  573  499\n",
      "   377  388  288  294  241  201  168  167  125  114  102  108   68   57\n",
      "    54   49   16   18   10    7    5    9    2    1    1    0    2    0\n",
      "     0    0    0    0    1    0    0    2    0    0    1    0    0    0\n",
      "     0    0    0    0]]\n",
      "[[   0    1    2    3    4    5    6    7    8    9   10   11   12   13\n",
      "    14   15   16   17   18   19   20   21   22   23   24   25   26   27\n",
      "    28   29   30   31   32   33   34   35   36   37   38   39   40   41\n",
      "    42   43   44   45   46   47   48   49   50   51   52   53   54   55\n",
      "    56   57   58   59   60   61   62   63   64   65   66   67   68   69\n",
      "    70   71   72   73   74   75   76   77   78   79   80   81   82   83\n",
      "    84   85   86   87   88   89   90   91   92   93   94   95   96   97\n",
      "    98   99  100  101  102  103  104  105  106  107  108  109  110  111\n",
      "   112  113  114  115  116  117  118  119  120  121  122  123  124  125\n",
      "   126  127  128  129  130  131  132  133  134  135  136  137  138  139\n",
      "   140  141  142  143  144  145  146  147  148  149  150  151  152  153\n",
      "   154  155  156  157  158  159  160  161  162  163  164  165  166  167\n",
      "   168  169  170  171  172  173  174  175  176  177  178  179  180  181\n",
      "   182  183  184  185  186  187  188  189  190  191  192  193  194  195\n",
      "   196  197  198  199  200  201  202  203  204  205  206  207  208  209\n",
      "   210  211  212  213  214  215  216  217  218  219  220  221  222  223\n",
      "   224  225  226  227  228  229  230  231  232  233  234  235  236  237\n",
      "   238  239  240  241  242  243  244  245  246  247  248  249  250  251\n",
      "   252  253  254  255]\n",
      " [   0    0    0    0    0    0    0    0    0    0    0    0    0    0\n",
      "     0    0    0    0    0    0    0    0    0    0    0    0    0    0\n",
      "     0    0    0    0    0    0    0    0    0    0    0    0    0    0\n",
      "     0    0    0    0    0    0    0    0    0    0    0    0    1    0\n",
      "     1    1    1    8    6   10    9   20   37   32   41   53   74  103\n",
      "   132  179  193  242  238  336  386  404  483  607  628  771  785 1001\n",
      "  1016 1177 1269 1332 1446 1487 1457 1574 1585 1591 1557 1569 1660 1648\n",
      "  1420 1559 1418 1384 1319 1342 1156 1120  955  969  828  782  752  737\n",
      "   719  700  628  673  587  617  610  592  557  593  552  566  582  559\n",
      "   571  520  664  650  618  730  594  667  675  685  771  715  667  740\n",
      "   744  766  765  772  817  817  744  806  760  777  812  797  799  861\n",
      "   814  910  907  918  888 1011  879  996  912  952  884 1074  977 1073\n",
      "  1040 1216 1250 1403 1534 1639 1682 1776 1874 1769 1582 1743 1441 1477\n",
      "  1483 1409 1437 1449 1389 1479 1592 1655 1657 1666 1857 1896 1813 1979\n",
      "  1814 1956 1928 2055 2012 2303 2333 2670 2787 3232 3154 3476 3424 3516\n",
      "  3102 3176 2787 2885 2630 2731 2664 2955 2955 3360 3554 4138 3987 4057\n",
      "  4327 3713 3185 2929 2551 2432 2195 2256 1960 2126 2186 2265 2417 2445\n",
      "  2282 1826 1972 1456 1137  986  748  749  667  582  428  357  313  302\n",
      "   242  178   67  112]]\n"
     ]
    }
   ],
   "source": [
    "print(type(a),type(b),type(t))\n",
    "print(t[:,:,0])\n",
    "print(t[:,:,1])\n",
    "print(t[:,:,2])"
   ]
  },
  {
   "cell_type": "code",
   "execution_count": 30,
   "metadata": {},
   "outputs": [
    {
     "name": "stdout",
     "output_type": "stream",
     "text": [
      "(2, 256, 3)\n"
     ]
    },
    {
     "data": {
      "image/png": "[encoded data removed]",
      "text/plain": [
       "<Figure size 432x288 with 1 Axes>"
      ]
     },
     "metadata": {
      "needs_background": "light"
     },
     "output_type": "display_data"
    }
   ],
   "source": [
    "print(t.shape)\n",
    "plt.stem(t[0,:,0], t[1,:,0],'r')\n",
    "plt.stem(t[0,:,1], t[1,:,1],'g')\n",
    "plt.stem(t[0,:,2], t[1,:,2],'b')\n",
    "plt.show()"
   ]
  },
  {
   "cell_type": "code",
   "execution_count": 31,
   "metadata": {},
   "outputs": [
    {
     "data": {
      "image/png": "[encoded data removed]",
      "text/plain": [
       "<Figure size 432x288 with 1 Axes>"
      ]
     },
     "metadata": {
      "needs_background": "light"
     },
     "output_type": "display_data"
    }
   ],
   "source": [
    "b, g, r = cv2.split(img)\n",
    "\n",
    "plt.hist(b.ravel(), 256, [0, 256])\n",
    "plt.hist(g.ravel(), 256, [0, 256])\n",
    "plt.hist(r.ravel(), 256, [0, 256])\n",
    "plt.show()"
   ]
  },
  {
   "cell_type": "code",
   "execution_count": 33,
   "metadata": {},
   "outputs": [],
   "source": [
    "#  Q2 A generalized function to perform image normalization according to the user input:\n",
    "# 1. Pixel Normalization\n",
    "# 2. Pixel Centering\n",
    "# 3. Pixel Standardization\n",
    "# and to return the output image, mean, range and variance\n",
    "\n",
    "def normalisation(input_image, pn, pc, ps):\n",
    "    \n",
    "    def mean(m):\n",
    "        return (np.sum(m)/ (np.size(m)))\n",
    "    \n",
    "    def variance(img):\n",
    "        return (np.sum(np.square(img - mean(img)))/ np.size(img))\n",
    "    if (pn):      \n",
    "        input_image = (input_image) / (np.max(input_image))\n",
    "    if (pc):\n",
    "        img_mean= mean(input_image)    \n",
    "        input_image = input_image - img_mean\n",
    "    if (ps):\n",
    "        image = input_image - mean(input_image)\n",
    "        std_deviation = (variance(image))**0.5\n",
    "        input_image = image / std_deviation\n",
    "    \n",
    "    output_normalized_image = input_image\n",
    "    mean_output_img = np.array(mean(output_normalized_image))\n",
    "    variance_output_img = np.array(variance(output_normalized_image))\n",
    "    range_output_img = np.array([np.min(output_normalized_image) , np.max(output_normalized_image)])\n",
    "    \n",
    "    return output_normalized_image, mean_output_img, range_output_img, variance_output_img"
   ]
  },
  {
   "cell_type": "code",
   "execution_count": 34,
   "metadata": {},
   "outputs": [
    {
     "data": {
      "text/plain": [
       "(array([[[0.49019608, 0.5372549 , 0.88627451],\n",
       "         [0.49019608, 0.5372549 , 0.88627451],\n",
       "         [0.52156863, 0.5372549 , 0.8745098 ],\n",
       "         ...,\n",
       "         [0.47843137, 0.58039216, 0.90196078],\n",
       "         [0.43137255, 0.50980392, 0.86666667],\n",
       "         [0.35294118, 0.38823529, 0.78431373]],\n",
       " \n",
       "        [[0.49019608, 0.5372549 , 0.88627451],\n",
       "         [0.49019608, 0.5372549 , 0.88627451],\n",
       "         [0.52156863, 0.5372549 , 0.8745098 ],\n",
       "         ...,\n",
       "         [0.47843137, 0.58039216, 0.90196078],\n",
       "         [0.43137255, 0.50980392, 0.86666667],\n",
       "         [0.35294118, 0.38823529, 0.78431373]],\n",
       " \n",
       "        [[0.49019608, 0.5372549 , 0.88627451],\n",
       "         [0.49019608, 0.5372549 , 0.88627451],\n",
       "         [0.52156863, 0.5372549 , 0.8745098 ],\n",
       "         ...,\n",
       "         [0.47843137, 0.58039216, 0.90196078],\n",
       "         [0.43137255, 0.50980392, 0.86666667],\n",
       "         [0.35294118, 0.38823529, 0.78431373]],\n",
       " \n",
       "        ...,\n",
       " \n",
       "        [[0.23529412, 0.07058824, 0.32941176],\n",
       "         [0.23529412, 0.07058824, 0.32941176],\n",
       "         [0.22745098, 0.10588235, 0.36078431],\n",
       "         ...,\n",
       "         [0.32941176, 0.28627451, 0.67843137],\n",
       "         [0.29803922, 0.26666667, 0.6745098 ],\n",
       "         [0.30980392, 0.24313725, 0.69411765]],\n",
       " \n",
       "        [[0.22352941, 0.08627451, 0.32156863],\n",
       "         [0.22352941, 0.08627451, 0.32156863],\n",
       "         [0.24313725, 0.1254902 , 0.37647059],\n",
       "         ...,\n",
       "         [0.30980392, 0.2745098 , 0.70196078],\n",
       "         [0.31764706, 0.27843137, 0.70980392],\n",
       "         [0.31764706, 0.29019608, 0.7254902 ]],\n",
       " \n",
       "        [[0.22352941, 0.08627451, 0.32156863],\n",
       "         [0.22352941, 0.08627451, 0.32156863],\n",
       "         [0.24313725, 0.1254902 , 0.37647059],\n",
       "         ...,\n",
       "         [0.30980392, 0.2745098 , 0.70196078],\n",
       "         [0.31764706, 0.27843137, 0.70980392],\n",
       "         [0.31764706, 0.29019608, 0.7254902 ]]]),\n",
       " array(0.50285638),\n",
       " array([0.01176471, 1.        ]),\n",
       " array(0.05350373))"
      ]
     },
     "execution_count": 34,
     "metadata": {},
     "output_type": "execute_result"
    }
   ],
   "source": [
    "normalisation(img, True, False, False)"
   ]
  },
  {
   "cell_type": "code",
   "execution_count": null,
   "metadata": {},
   "outputs": [],
   "source": []
  }
 ],
 "metadata": {
  "kernelspec": {
   "display_name": "Python 3",
   "language": "python",
   "name": "python3"
  },
  "language_info": {
   "codemirror_mode": {
    "name": "ipython",
    "version": 3
   },
   "file_extension": ".py",
   "mimetype": "text/x-python",
   "name": "python",
   "nbconvert_exporter": "python",
   "pygments_lexer": "ipython3",
   "version": "3.8.5"
  }
 },
 "nbformat": 4,
 "nbformat_minor": 4
}
