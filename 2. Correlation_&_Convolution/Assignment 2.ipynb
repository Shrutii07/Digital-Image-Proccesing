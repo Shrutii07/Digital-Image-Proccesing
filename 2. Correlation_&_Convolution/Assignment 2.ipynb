{
 "cells": [
  {
   "cell_type": "code",
   "execution_count": 1,
   "metadata": {},
   "outputs": [],
   "source": [
    "import numpy as np\n",
    "import cv2\n",
    "import math\n",
    "import matplotlib.pyplot as plt"
   ]
  },
  {
   "cell_type": "code",
   "execution_count": 2,
   "metadata": {},
   "outputs": [],
   "source": [
    "def correlation2d(input_image, kernel, stride= np.array([[1], [1]]),  padding= np.array([[0], [0]])):\n",
    "    \n",
    "    stride_x = stride[1,0]\n",
    "    stride_y = stride[0,0]\n",
    "    padding_x = padding[1,0]\n",
    "    padding_y = padding[0,0]\n",
    "    \n",
    "    def corr(img, ker, stri_x, stri_y):\n",
    "        h, w = ker.shape\n",
    "        r,c = img.shape\n",
    "        out = np.zeros((math.floor(((r - h )/ stri_x)+ 1), math.floor(((c - w )/ stri_y)+ 1)))\n",
    "        for i in range(out.shape[0]):\n",
    "            for j in range(out.shape[1]):\n",
    "                out[i, j] = (img[i* stri_x: i* stri_x+ h, j* stri_y : j* stri_y + w] * ker).sum()\n",
    "        # out = (out)/255       # normalize to rescale intensity 0-255\n",
    "        return out           # returns correlation for 2D image and kernel with given stride\n",
    "    \n",
    "    if input_image.ndim == 2:\n",
    "        # apply equal padding on both sides(left/right, up/down) \n",
    "        if padding_x != 0 or padding_y != 0:\n",
    "            image_padded = np.zeros((input_image.shape[0] + padding_x*2, input_image.shape[1] + padding_y*2))\n",
    "            image_padded[padding_x:-1 *padding_x, padding_y:-1*padding_y] = input_image\n",
    "        else:\n",
    "            image_padded = input_image\n",
    "        output = corr(image_padded, kernel,stride_x, stride_y)\n",
    "        \n",
    "    if input_image.ndim == 3:\n",
    "        # apply equal padding on both sides(left/right, up/down) for 3 channels\n",
    "        if padding_x != 0 or padding_y != 0:\n",
    "            image_padded = np.zeros((input_image.shape[0] + padding_x*2, input_image.shape[1] + padding_y*2, 3))\n",
    "            image_padded[padding_x:-1 * padding_x, padding_y:-1*padding_y,:] = input_image\n",
    "        else:\n",
    "            image_padded = input_image\n",
    "        output = np.zeros((math.floor(((image_padded.shape[0] - kernel.shape[0])/stride_x)+ 1), \n",
    "                           math.floor(((image_padded.shape[1] - kernel.shape[1] )/stride_y)+ 1),3))\n",
    "        for i in range(3):\n",
    "             # stacking correlation op in N*M*3 array\n",
    "            output[:,:,i] = corr(image_padded[:,:,i], kernel, stride_x, stride_y)\n",
    "                   \n",
    "    return output"
   ]
  },
  {
   "cell_type": "code",
   "execution_count": 41,
   "metadata": {},
   "outputs": [
    {
     "data": {
      "text/plain": [
       "True"
      ]
     },
     "execution_count": 41,
     "metadata": {},
     "output_type": "execute_result"
    }
   ],
   "source": [
    "X = cv2.imread(\"Lena.png\")\n",
    "#image = cv2.cvtColor(X, cv2.COLOR_BGR2GRAY)\n",
    "#i = np.array([[1,2,3,4],[1,5,0,1],[1,0,0,1],[2,1,2,1]])\n",
    "\n",
    "#K= np.array([[1,0,-1],[0,0,0],[-1,0,1]])\n",
    "#K= np.array([[0,-1,0],[-1,4,-1],[0,-1,0]])\n",
    "#K =  np.array([[-1, -1, -1], [-1, 8, -1], [-1, -1, -1]])\n",
    "\n",
    "#K= np.array([[0,-1,0],[-1,5,-1],[0,-1,0]])\n",
    "\n",
    "K= np.array([[1,1,1],[1,1,1],[1,1,1]])/9\n",
    "#K = np.array([[1,2,1], [2,4,2], [1,2,1]])/16\n",
    "#K = np.array([[1,4,6,4,1],[4,16,24,16,4],[6,24,36,24,6],[4,16,24,16,4],[1,4,6,4,1]])/256\n",
    "#print(K.shape)\n",
    "#print(image.shape)\n",
    "stri= np.array([[2], [3]])\n",
    "pad= np.array([[1], [1]])\n",
    "#print(pad.shape)\n",
    "#out = correlation2d(X, K)\n",
    "output = convolution2d(X, K)\n",
    "cv2.imwrite(\"Blur_1.jpg\", output)\n",
    "\n",
    "#cv2.imshow(\"Input_image\", X)\n",
    "#cv2.imshow(\"Correlation\", out)\n",
    "#cv2.imshow(\"convolution\",output)\n",
    "#cv2.waitKey(0)\n",
    "#cv2.destroyAllWindows()"
   ]
  },
  {
   "cell_type": "code",
   "execution_count": 29,
   "metadata": {},
   "outputs": [],
   "source": [
    "def convolution2d(input_image, kernel, stride= np.array([[1], [1]]),  padding= np.array([[0], [0]])):\n",
    "    #kernel = np.flipud(np.fliplr(kernel))\n",
    "    kernel = kernel[::-1, ::-1]\n",
    "    stride_x = stride[1,0]\n",
    "    stride_y = stride[0,0]\n",
    "    padding_x = padding[1,0]\n",
    "    padding_y = padding[0,0]\n",
    "    \n",
    "    def conv(img, ker, stri_x, stri_y):\n",
    "        h, w = ker.shape\n",
    "        r,c = img.shape\n",
    "        out = np.zeros((math.floor(((r - h )/ stri_x)+ 1), math.floor(((c - w )/ stri_y)+ 1)))\n",
    "        for i in range(out.shape[0]):\n",
    "            for j in range(out.shape[1]):\n",
    "                out[i, j] = (img[i* stri_x: i* stri_x+ h, j* stri_y : j* stri_y + w] * ker).sum()\n",
    "        #out = (out)/255       # normalize to rescale intensity 0-255\n",
    "        return out           # returns convolution for 2D image and kernel with given stride\n",
    "    \n",
    "    if input_image.ndim == 2:\n",
    "        # apply equal padding on both sides(left/right, up/down) \n",
    "        if padding_x != 0 or padding_y != 0:\n",
    "            image_padded = np.zeros((input_image.shape[0] + padding_x*2, input_image.shape[1] + padding_y*2))\n",
    "            image_padded[padding_x:-1*padding_x, padding_y:-1*padding_y] = input_image\n",
    "        else:\n",
    "            image_padded = input_image\n",
    "        output = conv(image_padded, kernel,stride_x, stride_y)\n",
    "        \n",
    "    if input_image.ndim == 3:\n",
    "        # apply equal padding on both sides(left/right, up/down) for 3 channels\n",
    "        if padding_x != 0 or padding_y != 0:\n",
    "            image_padded = np.zeros((input_image.shape[0] + padding_x*2, input_image.shape[1] + padding_y*2, 3))\n",
    "            image_padded[padding_x:-1 * padding_x, padding_y:-1*padding_y,:] = input_image\n",
    "        else:\n",
    "            image_padded = input_image\n",
    "        output = np.zeros((math.floor(((image_padded.shape[0] - kernel.shape[0])/stride_x)+ 1), \n",
    "                           math.floor(((image_padded.shape[1] - kernel.shape[1] )/stride_y)+ 1),3))\n",
    "        for i in range(3):\n",
    "             # stacking convolve op in N*M*3 array\n",
    "            output[:,:,i] = conv(image_padded[:,:,i], kernel, stride_x, stride_y)\n",
    "                   \n",
    "    return output\n"
   ]
  },
  {
   "cell_type": "code",
   "execution_count": 23,
   "metadata": {},
   "outputs": [],
   "source": []
  },
  {
   "cell_type": "code",
   "execution_count": 16,
   "metadata": {},
   "outputs": [
    {
     "name": "stdout",
     "output_type": "stream",
     "text": [
      "[[[ 1.47058824  1.61176471  2.65882353]\n",
      "  [ 1.09411765  1.07843137  1.7372549 ]\n",
      "  [ 0.9254902   1.1254902   1.78431373]\n",
      "  ...\n",
      "  [ 1.01568627  1.1372549   1.80784314]\n",
      "  [ 0.95686275  1.18039216  1.8627451 ]\n",
      "  [ 0.89411765  1.07058824  1.78039216]]\n",
      "\n",
      " [[ 0.98039216  1.0745098   1.77254902]\n",
      "  [ 0.57254902  0.54117647  0.8627451 ]\n",
      "  [ 0.45490196  0.58431373  0.89803922]\n",
      "  ...\n",
      "  [ 0.50980392  0.57254902  0.90980392]\n",
      "  [ 0.4745098   0.59607843  0.94509804]\n",
      "  [ 0.4627451   0.56078431  0.91372549]]\n",
      "\n",
      " [[ 0.90980392  1.03137255  1.81176471]\n",
      "  [ 0.49803922  0.69803922  0.8627451 ]\n",
      "  [ 0.61960784  0.52156863  0.85882353]\n",
      "  ...\n",
      "  [ 0.37647059  0.43529412  0.80392157]\n",
      "  [ 0.11764706  0.11764706  0.57647059]\n",
      "  [ 0.22352941 -0.03529412  0.30196078]]\n",
      "\n",
      " ...\n",
      "\n",
      " [[ 0.5254902   0.2         0.68627451]\n",
      "  [ 0.25098039  0.13333333  0.39215686]\n",
      "  [ 0.20392157  0.17647059  0.29411765]\n",
      "  ...\n",
      "  [ 0.24705882  0.16470588  0.37254902]\n",
      "  [ 0.15686275  0.19215686  0.43529412]\n",
      "  [ 0.26666667  0.09019608  0.58431373]]\n",
      "\n",
      " [[ 0.57647059  0.29411765  0.77647059]\n",
      "  [ 0.27843137  0.03137255  0.23529412]\n",
      "  [ 0.30196078  0.14901961  0.38039216]\n",
      "  ...\n",
      "  [ 0.18823529  0.23921569  0.57647059]\n",
      "  [ 0.12941176  0.12941176  0.65098039]\n",
      "  [ 0.37254902  0.29803922  0.61176471]]\n",
      "\n",
      " [[ 0.43529412  0.18823529  0.63529412]\n",
      "  [ 0.27843137  0.2         0.45882353]\n",
      "  [ 0.30980392  0.15686275  0.40784314]\n",
      "  ...\n",
      "  [ 0.25882353  0.27843137  0.6745098 ]\n",
      "  [ 0.23921569  0.21176471  0.71372549]\n",
      "  [ 0.34509804  0.28235294  0.7372549 ]]]\n"
     ]
    }
   ],
   "source": [
    "print(out)"
   ]
  },
  {
   "cell_type": "code",
   "execution_count": null,
   "metadata": {},
   "outputs": [],
   "source": []
  }
 ],
 "metadata": {
  "kernelspec": {
   "display_name": "Python 3",
   "language": "python",
   "name": "python3"
  },
  "language_info": {
   "codemirror_mode": {
    "name": "ipython",
    "version": 3
   },
   "file_extension": ".py",
   "mimetype": "text/x-python",
   "name": "python",
   "nbconvert_exporter": "python",
   "pygments_lexer": "ipython3",
   "version": "3.8.5"
  }
 },
 "nbformat": 4,
 "nbformat_minor": 4
}
